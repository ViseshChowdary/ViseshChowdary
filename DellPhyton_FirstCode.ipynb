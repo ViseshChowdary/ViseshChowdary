{
  "nbformat": 4,
  "nbformat_minor": 0,
  "metadata": {
    "colab": {
      "name": "DellPhyton@FirstCode.ipynb",
      "version": "0.3.2",
      "provenance": [],
      "collapsed_sections": []
    },
    "kernelspec": {
      "name": "python3",
      "display_name": "Python 3"
    }
  },
  "cells": [
    {
      "cell_type": "markdown",
      "metadata": {
        "id": "N6SNagCq295o",
        "colab_type": "text"
      },
      "source": [
        "My First Phyton program"
      ]
    },
    {
      "cell_type": "code",
      "metadata": {
        "id": "z5CsDzEP2y3Q",
        "colab_type": "code",
        "colab": {
          "base_uri": "https://localhost:8080/",
          "height": 35
        },
        "outputId": "a7a67676-163d-4416-9ed6-0829a6480c4a"
      },
      "source": [
        "print(\"Hello World\")"
      ],
      "execution_count": 1,
      "outputs": [
        {
          "output_type": "stream",
          "text": [
            "Hello World\n"
          ],
          "name": "stdout"
        }
      ]
    },
    {
      "cell_type": "markdown",
      "metadata": {
        "id": "MhvHCGdc_1UV",
        "colab_type": "text"
      },
      "source": [
        "Create a two list with 5 even number and 5 odd number and add 2 lists first and second multiply two lists"
      ]
    },
    {
      "cell_type": "code",
      "metadata": {
        "id": "WUewGx-M79oZ",
        "colab_type": "code",
        "colab": {
          "base_uri": "https://localhost:8080/",
          "height": 52
        },
        "outputId": "9b4dee6c-ade9-4e37-de99-9049863a7660"
      },
      "source": [
        "L1 = [2,4,6,8,10]\n",
        "L2 = [1,3,5,7,9]\n",
        "L3 = []\n",
        "L4 = []\n",
        "for i in range(0, len(L1)): \n",
        "    L3.append(L1[i] + L2[i]) \n",
        "\n",
        "print (\"Resultant list is : \" + str(L3))\n",
        "for i in range(0, len(L1)): \n",
        "    L4.append(L1[i] * L2[i]) \n",
        "print (\"Resultant list is : \" + str(L4))"
      ],
      "execution_count": 18,
      "outputs": [
        {
          "output_type": "stream",
          "text": [
            "Resultant list is : [3, 7, 11, 15, 19]\n",
            "Resultant list is : [2, 12, 30, 56, 90]\n"
          ],
          "name": "stdout"
        }
      ]
    },
    {
      "cell_type": "markdown",
      "metadata": {
        "id": "6sILfJvbeF_X",
        "colab_type": "text"
      },
      "source": [
        "get the angles from 0,360 with 30degrees difference using range function\n",
        "get indexes for 90 and 270 using lenght"
      ]
    },
    {
      "cell_type": "code",
      "metadata": {
        "id": "5Nz_Xmw3_9rC",
        "colab_type": "code",
        "colab": {
          "base_uri": "https://localhost:8080/",
          "height": 87
        },
        "outputId": "257237cc-75e8-4455-fd8e-a8105dd58baa"
      },
      "source": [
        "Angles = [0,30,60,90,120,150,180,210,240,270,310,340,360]\n",
        "i1 = Angles[3]\n",
        "i2 = Angles[9]\n",
        "Lenght = len(Angles)\n",
        "print(Lenght)\n",
        "i1_Rev = Angles[Lenght-10]\n",
        "print (i1_Rev)\n",
        "i2_Rev = Angles[Lenght-4]\n",
        "print(i2_Rev)\n",
        "Angles2 = []\n",
        "Angles2.append(Angles.reverse())\n",
        "print(Angles)\n"
      ],
      "execution_count": 55,
      "outputs": [
        {
          "output_type": "stream",
          "text": [
            "13\n",
            "90\n",
            "270\n",
            "[360, 340, 310, 270, 240, 210, 180, 150, 120, 90, 60, 30, 0]\n"
          ],
          "name": "stdout"
        }
      ]
    },
    {
      "cell_type": "markdown",
      "metadata": {
        "id": "r59hILyojTqO",
        "colab_type": "text"
      },
      "source": [
        "Create two lists with same set,remove one element from second set,use copy function in one method and L1=L2"
      ]
    },
    {
      "cell_type": "code",
      "metadata": {
        "id": "tAtrObUwByRF",
        "colab_type": "code",
        "colab": {
          "base_uri": "https://localhost:8080/",
          "height": 52
        },
        "outputId": "fe828b61-8e2a-471f-834a-6c62cfaa3826"
      },
      "source": [
        "L1 = [10,9,8,7,6]\n",
        "L2 = L1\n",
        "L2.remove(8)\n",
        "print(L1)\n",
        "print(L2)\n",
        "\n",
        "\n"
      ],
      "execution_count": 73,
      "outputs": [
        {
          "output_type": "stream",
          "text": [
            "[10, 9, 7, 6]\n",
            "[10, 9, 7, 6]\n"
          ],
          "name": "stdout"
        }
      ]
    },
    {
      "cell_type": "code",
      "metadata": {
        "id": "xRKSDl31hnW8",
        "colab_type": "code",
        "colab": {
          "base_uri": "https://localhost:8080/",
          "height": 52
        },
        "outputId": "b7087812-d72f-4aeb-af93-fb3805531a87"
      },
      "source": [
        "L1 =[10,9,8,7,6]\n",
        "L2=L1.copy()\n",
        "L2.remove(8)\n",
        "print(L1)\n",
        "print(L2)"
      ],
      "execution_count": 71,
      "outputs": [
        {
          "output_type": "stream",
          "text": [
            "[10, 9, 8, 7, 6]\n",
            "[10, 9, 7, 6]\n"
          ],
          "name": "stdout"
        }
      ]
    },
    {
      "cell_type": "code",
      "metadata": {
        "id": "9oBPe97_nb4N",
        "colab_type": "code",
        "colab": {}
      },
      "source": [
        "import numpy as np\n",
        "import tensorflow as tf\n",
        "import pytorch"
      ],
      "execution_count": 0,
      "outputs": []
    },
    {
      "cell_type": "markdown",
      "metadata": {
        "id": "R049mwc0rQIw",
        "colab_type": "text"
      },
      "source": [
        "create a tuple with 5 elements,add one element and remove 3rd element and print"
      ]
    },
    {
      "cell_type": "code",
      "metadata": {
        "id": "lLRvMIMNo2io",
        "colab_type": "code",
        "colab": {
          "base_uri": "https://localhost:8080/",
          "height": 105
        },
        "outputId": "efa4d445-836c-4338-857b-38bfbd405cf5"
      },
      "source": [
        "tuple1 = 10,9,8,7,6\n",
        "print (tuple1)\n",
        "tuple1 = tuple1+(5,)\n",
        "print(tuple1)\n",
        "# converting tuple to list \n",
        "listx = list(tuple1)\n",
        "print(listx)\n",
        "# remove 3rd element\n",
        "listx.remove(8)\n",
        "print(listx)\n",
        "# convert list to tuple again\n",
        "Tuple1=tuple(listx)\n",
        "print (Tuple1)"
      ],
      "execution_count": 93,
      "outputs": [
        {
          "output_type": "stream",
          "text": [
            "(10, 9, 8, 7, 6)\n",
            "(10, 9, 8, 7, 6, 5)\n",
            "[10, 9, 8, 7, 6, 5]\n",
            "[10, 9, 7, 6, 5]\n",
            "(10, 9, 7, 6, 5)\n"
          ],
          "name": "stdout"
        }
      ]
    },
    {
      "cell_type": "markdown",
      "metadata": {
        "id": "joo3sPgh6ydV",
        "colab_type": "text"
      },
      "source": [
        "Create a Dictionary,extract information from one of the keys,add keys to dictionary,remove keys from dictionary,Update values for any one of the keys"
      ]
    },
    {
      "cell_type": "code",
      "metadata": {
        "id": "ipoq3KIOpAp2",
        "colab_type": "code",
        "colab": {
          "base_uri": "https://localhost:8080/",
          "height": 125
        },
        "outputId": "7d5c1975-0185-43bc-c670-31e3abd02040"
      },
      "source": [
        "States = {'AP':[21213123123,'Amaravathi',True],'Telangana':[521312312,'Hyd',True],'Karnataka':[5123123123,'Banglore',True],'Bihar':[513123123123,'Patna',False],'ArunachalPradesh':[5131231233,'itanagar',False]}\n",
        "print(States)\n",
        "print(States.get('Bihar'))\n",
        "States['TN']=\"5123123123213,'Chennai',False\"\n",
        "print(States)\n",
        "del States['Telangana']\n",
        "print(States)\n",
        "S2={'AP':[88888888888,'Amaravathi,True']}\n",
        "States.update(S2)\n",
        "print(States)\n"
      ],
      "execution_count": 117,
      "outputs": [
        {
          "output_type": "stream",
          "text": [
            "{'AP': [21213123123, 'Amaravathi', True], 'Telangana': [521312312, 'Hyd', True], 'Karnataka': [5123123123, 'Banglore', True], 'Bihar': [513123123123, 'Patna', False], 'ArunachalPradesh': [5131231233, 'itanagar', False]}\n",
            "[513123123123, 'Patna', False]\n",
            "{'AP': [21213123123, 'Amaravathi', True], 'Telangana': [521312312, 'Hyd', True], 'Karnataka': [5123123123, 'Banglore', True], 'Bihar': [513123123123, 'Patna', False], 'ArunachalPradesh': [5131231233, 'itanagar', False], 'TN': \"5123123123213,'Chennai',False\"}\n",
            "{'AP': [21213123123, 'Amaravathi', True], 'Karnataka': [5123123123, 'Banglore', True], 'Bihar': [513123123123, 'Patna', False], 'ArunachalPradesh': [5131231233, 'itanagar', False], 'TN': \"5123123123213,'Chennai',False\"}\n",
            "{'AP': [88888888888, 'Amaravathi,True'], 'Karnataka': [5123123123, 'Banglore', True], 'Bihar': [513123123123, 'Patna', False], 'ArunachalPradesh': [5131231233, 'itanagar', False], 'TN': \"5123123123213,'Chennai',False\"}\n"
          ],
          "name": "stdout"
        }
      ]
    },
    {
      "cell_type": "markdown",
      "metadata": {
        "id": "eA1mlO02_gyo",
        "colab_type": "text"
      },
      "source": [
        "Create a function and make use in Lambda function,convert angle to radians and make use it in list"
      ]
    },
    {
      "cell_type": "code",
      "metadata": {
        "id": "AirdUlU6_s-4",
        "colab_type": "code",
        "colab": {
          "base_uri": "https://localhost:8080/",
          "height": 35
        },
        "outputId": "f6966898-ad1e-446b-dd17-28aeac089fc3"
      },
      "source": [
        "import math\n",
        "def deg_rad(angle):\n",
        "  my_area = angle*0.01744\n",
        "  return my_area;\n",
        "\n",
        "print(deg_rad(30))\n"
      ],
      "execution_count": 136,
      "outputs": [
        {
          "output_type": "stream",
          "text": [
            "0.5232\n"
          ],
          "name": "stdout"
        }
      ]
    },
    {
      "cell_type": "code",
      "metadata": {
        "id": "360VJwYuApt7",
        "colab_type": "code",
        "colab": {}
      },
      "source": [
        "deg_rad_inline = lambda deg_rad:deg_rad()\n",
        "print(deg_rad_inline(45))"
      ],
      "execution_count": 0,
      "outputs": []
    },
    {
      "cell_type": "code",
      "metadata": {
        "id": "PFQ6voT0KdeU",
        "colab_type": "code",
        "colab": {}
      },
      "source": [
        ""
      ],
      "execution_count": 0,
      "outputs": []
    }
  ]
}